{
 "cells": [
  {
   "cell_type": "code",
   "execution_count": null,
   "metadata": {},
   "outputs": [],
   "source": [
    "#!/usr/bin/env python3\n",
    "# 100+ Computer Science Concepts Explained\n",
    "# https://www.youtube.com/watch?v=-uleG_Vecis&list=PLuhUhpy_p0qupvlLWU-hndY64JkPX3JDO&index=7"
   ]
  },
  {
   "cell_type": "code",
   "execution_count": 8,
   "metadata": {},
   "outputs": [],
   "source": [
    "def add(a,b):\n",
    "    a_is_bigger = a > b\n",
    "    if a_is_bigger:\n",
    "        print('a wins')\n",
    "    else:\n",
    "        print ('b wins')\n",
    "    \n",
    "    return a + b"
   ]
  },
  {
   "cell_type": "code",
   "execution_count": 12,
   "metadata": {},
   "outputs": [],
   "source": [
    "#loop\n",
    "\n",
    "def add(a,b):\n",
    "    a_is_bigger = a > b\n",
    "\n",
    "\n",
    "    while(a_is_bigger):\n",
    "        print('a is still bigger')\n",
    "        b += 1\n",
    "        a_is_bigger = a > b\n",
    "    \n",
    "    return a + b"
   ]
  },
  {
   "cell_type": "code",
   "execution_count": null,
   "metadata": {},
   "outputs": [],
   "source": [
    "def algo()\n",
    "\n",
    "    nums = [1,2,3,4,5]\n",
    "\n",
    "    "
   ]
  }
 ],
 "metadata": {
  "kernelspec": {
   "display_name": "Python 3.10.1 64-bit",
   "language": "python",
   "name": "python3"
  },
  "language_info": {
   "codemirror_mode": {
    "name": "ipython",
    "version": 3
   },
   "file_extension": ".py",
   "mimetype": "text/x-python",
   "name": "python",
   "nbconvert_exporter": "python",
   "pygments_lexer": "ipython3",
   "version": "3.10.1"
  },
  "orig_nbformat": 4,
  "vscode": {
   "interpreter": {
    "hash": "aee8b7b246df8f9039afb4144a1f6fd8d2ca17a180786b69acc140d282b71a49"
   }
  }
 },
 "nbformat": 4,
 "nbformat_minor": 2
}
