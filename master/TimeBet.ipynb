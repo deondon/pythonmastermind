{
 "cells": [
  {
   "cell_type": "code",
   "execution_count": null,
   "metadata": {},
   "outputs": [],
   "source": [
    "\n",
    "#!/usr/bin/env python3"
   ]
  },
  {
   "cell_type": "code",
   "execution_count": null,
   "metadata": {},
   "outputs": [],
   "source": [
    "# Install Python GUI - tkinter\n",
    "from tkinter import *\n",
    "import time\n",
    "\n",
    "\n",
    "# Show Text in GUI Window \n",
    "# How do I edit this class?\n",
    "# What is a class https://pythonbasics.org/class/\n",
    "\n",
    "# What is an object?\n",
    "# An object is a collection of methods and variables \n",
    "# Example objects - class or list\n",
    "\n",
    "#What is a method?\n",
    "#A method is a function that belongs to an object\n",
    "\n",
    "class Window(Frame):\n",
    "    def __init__(self, master=None):\n",
    "        Frame.__init__(self, master)\n",
    "        self.master = master\n",
    "        self.pack(fill=BOTH, expand=1)\n",
    "        \n",
    "        text = Label(self, text=\" Welcome to Time Bets The Game for people who really value their time.\")\n",
    "        text.place(x=10,y=10)\n",
    "        #text.pack()\n",
    "        \n",
    "root = Tk()\n",
    "app = Window(root)\n",
    "root.wm_title(\"Tkinter window\")\n",
    "root.geometry(\"500x200\")\n",
    "root.mainloop()"
   ]
  },
  {
   "cell_type": "code",
   "execution_count": null,
   "metadata": {},
   "outputs": [],
   "source": [
    "# Create a dice \n",
    "\n",
    "import random\n",
    "\n",
    "dice = (random.randrange(0,2))\n",
    "\n",
    "print(dice)\n",
    "\n"
   ]
  },
  {
   "cell_type": "code",
   "execution_count": 105,
   "metadata": {},
   "outputs": [
    {
     "name": "stdout",
     "output_type": "stream",
     "text": [
      "I am avoiding opening ...\n",
      "I am avoiding taxes\n"
     ]
    }
   ],
   "source": [
    "# Ask What is the action you are avoiding the most today?\n",
    "# intialize variable mostAvoidAction\n",
    "# Pick a Random Verb\n",
    "\n",
    "def __init__(self, mostAvoidAction=None):\n",
    "   self.mostAvoidAction = mostAvoidAction\n",
    "\n",
    "#mostAvoidAction = input ('What is the action you are avoiding the most today?') \n",
    "#Show List:\n",
    "#Writing out Debt reduction plan\n",
    "\n",
    "verbList = ['writing','opening','watching']\n",
    "nounList = ['debt','taxes','family']\n",
    "\n",
    "print('I am avoiding ' + verbList[dice] + ' ...')\n",
    "print('I am avoiding ' + nounList[dice])\n",
    "\n"
   ]
  },
  {
   "cell_type": "code",
   "execution_count": 104,
   "metadata": {},
   "outputs": [
    {
     "name": "stdout",
     "output_type": "stream",
     "text": [
      "['open\\n', 'watch\\n', 'New Verb\\n', 'New Verb\\n', 'New Verb\\n']\n"
     ]
    }
   ],
   "source": [
    "#Read and append to Verbs file \n",
    "\n",
    "filename = \"verbs.py\"\n",
    "\n",
    "# append and open file\n",
    "f = open(\"verbs.py\",\"a\")\n",
    "\n",
    "# write data to file \n",
    "f.write(\"New Verb\\n\")\n",
    "\n",
    "with open(filename) as f:\n",
    "    content = f.readlines()\n",
    "\n",
    "# close file\n",
    "f.close()\n",
    "\n",
    "print(content)\n"
   ]
  },
  {
   "cell_type": "code",
   "execution_count": null,
   "metadata": {},
   "outputs": [],
   "source": [
    "#How to input Time value?\n",
    "#https://pythonbasics.org/time-and-date/\n",
    "#Get length of time user has been avoiding action\n",
    "#If longer than 24 hour they can only scedule it for 30 seconds\n",
    "#If less than 60 mins the can work on it for up to 25 mins\n",
    " \n",
    "avoidDuration = input ('For around How long have you been avoiding it?')\n",
    "spendTime = 0\n",
    "if avoidDuration > 24 hours\n",
    "    spendTime = 30 seconds\n",
    "elif avoidDuration < 1 hour\n",
    "    spendTime = 25 minutes\n",
    "else:\n",
    "    print(\"Invalid Input\")    \n"
   ]
  },
  {
   "cell_type": "markdown",
   "metadata": {},
   "source": []
  }
 ],
 "metadata": {
  "kernelspec": {
   "display_name": "Python 3.10.1 64-bit",
   "language": "python",
   "name": "python3"
  },
  "language_info": {
   "codemirror_mode": {
    "name": "ipython",
    "version": 3
   },
   "file_extension": ".py",
   "mimetype": "text/x-python",
   "name": "python",
   "nbconvert_exporter": "python",
   "pygments_lexer": "ipython3",
   "version": "3.10.1"
  },
  "orig_nbformat": 4,
  "vscode": {
   "interpreter": {
    "hash": "aee8b7b246df8f9039afb4144a1f6fd8d2ca17a180786b69acc140d282b71a49"
   }
  }
 },
 "nbformat": 4,
 "nbformat_minor": 2
}
